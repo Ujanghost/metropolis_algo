{
  "nbformat": 4,
  "nbformat_minor": 0,
  "metadata": {
    "colab": {
      "provenance": [],
      "authorship_tag": "ABX9TyMjgkgchbvUTbt/1+O0wMHA",
      "include_colab_link": true
    },
    "kernelspec": {
      "name": "python3",
      "display_name": "Python 3"
    },
    "language_info": {
      "name": "python"
    }
  },
  "cells": [
    {
      "cell_type": "markdown",
      "metadata": {
        "id": "view-in-github",
        "colab_type": "text"
      },
      "source": [
        "<a href=\"https://colab.research.google.com/github/Ujanghost/metropolis_algo/blob/main/Metropolis_algorithm.ipynb\" target=\"_parent\"><img src=\"https://colab.research.google.com/assets/colab-badge.svg\" alt=\"Open In Colab\"/></a>"
      ]
    },
    {
      "cell_type": "code",
      "execution_count": 3,
      "metadata": {
        "colab": {
          "base_uri": "https://localhost:8080/",
          "height": 651
        },
        "id": "siV1WjAqHUtJ",
        "outputId": "e17ecb25-0f25-47e5-b934-f3e44a66075e"
      },
      "outputs": [
        {
          "output_type": "display_data",
          "data": {
            "text/plain": [
              "<Figure size 432x288 with 1 Axes>"
            ],
            "image/png": "[encoded data removed]"
          },
          "metadata": {
            "needs_background": "light"
          }
        },
        {
          "output_type": "display_data",
          "data": {
            "text/plain": [
              "<Figure size 432x288 with 1 Axes>"
            ],
            "image/png": "[encoded data removed]"
          },
          "metadata": {
            "needs_background": "light"
          }
        },
        {
          "output_type": "execute_result",
          "data": {
            "text/plain": [
              "(array([[-1, -1, -1, ...,  1, -1, -1],\n",
              "        [ 1, -1, -1, ...,  1,  1,  1],\n",
              "        [ 1, -1, -1, ...,  1, -1,  1],\n",
              "        ...,\n",
              "        [ 1, -1, -1, ...,  1,  1,  1],\n",
              "        [ 1, -1, -1, ...,  1,  1,  1],\n",
              "        [-1, -1, -1, ...,  1,  1, -1]]), -3312)"
            ]
          },
          "metadata": {},
          "execution_count": 3
        }
      ],
      "source": [
        "import numpy as np\n",
        "import matplotlib.pyplot as plt\n",
        "\n",
        "# define the energy function\n",
        "def energy(state):\n",
        "    return np.sum(-state*np.roll(state,1,axis=0)-state*np.roll(state,1,axis=1))\n",
        "\n",
        "# define the metropolis algorithm\n",
        "def metropolis_algorithm(state, beta):\n",
        "    # randomly select a site\n",
        "    i, j = np.random.randint(0, state.shape[0]), np.random.randint(0, state.shape[1])\n",
        "    \n",
        "    # calculate the energy change if the spin is flipped\n",
        "    delta_E = 2*state[i,j]*(state[(i+1)%state.shape[0],j] + state[(i-1)%state.shape[0],j] +\n",
        "                          state[i,(j+1)%state.shape[1]] + state[i,(j-1)%state.shape[1]])\n",
        "    \n",
        "    # calculate the acceptance probability\n",
        "    p = np.exp(-beta*delta_E)\n",
        "    \n",
        "    # flip the spin with probability p\n",
        "    if np.random.rand() < p:\n",
        "        state[i,j] *= -1\n",
        "    \n",
        "    return state\n",
        "\n",
        "# define the main function\n",
        "def main(state_shape=(50,50), beta=1.0, num_steps=5000, plot=True):\n",
        "    # initialize the state\n",
        "    state = np.random.choice([-1,1], size=state_shape)\n",
        "    \n",
        "    # run the Metropolis algorithm for num_steps iterations\n",
        "    for step in range(num_steps):\n",
        "        state = metropolis_algorithm(state, beta)\n",
        "        \n",
        "    # plot the final state\n",
        "    if plot:\n",
        "        plt.imshow(state, cmap='binary')\n",
        "        plt.show()\n",
        "    \n",
        "    # plot the energy as a function of step\n",
        "    energies = []\n",
        "    for step in range(num_steps):\n",
        "        state = metropolis_algorithm(state, beta)\n",
        "        energies.append(energy(state))\n",
        "    plt.plot(energies)\n",
        "    plt.xlabel('Step')\n",
        "    plt.ylabel('Energy')\n",
        "    plt.show()\n",
        "    \n",
        "    # return the final state and the energy of the system\n",
        "    return state, energy(state)\n",
        "\n",
        "# run the main function\n",
        "main()\n"
      ]
    }
  ]
}